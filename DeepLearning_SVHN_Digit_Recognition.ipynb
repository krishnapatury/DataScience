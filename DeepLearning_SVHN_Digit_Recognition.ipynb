{
  "cells": [
    {
      "cell_type": "markdown",
      "metadata": {
        "id": "view-in-github",
        "colab_type": "text"
      },
      "source": [
        "<a href=\"https://colab.research.google.com/github/krishnapatury/DataScience/blob/main/DeepLearning_SVHN_Digit_Recognition.ipynb\" target=\"_parent\"><img src=\"https://colab.research.google.com/assets/colab-badge.svg\" alt=\"Open In Colab\"/></a>"
      ]
    },
    {
      "cell_type": "markdown",
      "metadata": {
        "id": "Q91KqmCRu64D"
      },
      "source": [
        "# **Street View Housing Number Digit Recognition**\n",
        "\n",
        "One of the most interesting tasks in deep learning is to recognize objects in natural scenes. The ability to process visual information using machine learning algorithms can be very useful as demonstrated in various applications.\n",
        "\n",
        "The Street View Housing Numbers (SVHN), a popular image recognition, dataset contains over 600,000 labeled digits cropped from street-level photos. It has been used in neural networks created by Google to improve the map quality by automatically transcribing the address numbers from a patch of pixels. The transcribed number with a known street address helps pinpoint the location of the building it represents. \n",
        "\n",
        "\n",
        "## **Objective**\n",
        "To build an artificial feed-forward neural network model and a convolutional neural network that can recognize the digits in the images. \n",
        "\n",
        "## **Dataset**\n",
        "Used a subset of the original data provided as a .h5 file to save some computation time. The basic preprocessing steps have been applied on the dataset."
      ]
    },
    {
      "cell_type": "markdown",
      "metadata": {
        "id": "8z2Z7-OAs8QG"
      },
      "source": [
        "## **Mounting the Google drive**\n",
        "\n",
        "Due to higher RAM needs for Deep Learning models, I chose to use Google colab instead of Jupyter."
      ]
    },
    {
      "cell_type": "code",
      "execution_count": 1,
      "metadata": {
        "colab": {
          "base_uri": "https://localhost:8080/"
        },
        "id": "fRB8TGAZl-C2",
        "outputId": "cd61bcfd-6a5a-4633-d17c-6268353cdf2b"
      },
      "outputs": [
        {
          "output_type": "stream",
          "name": "stdout",
          "text": [
            "Mounted at /content/drive\n"
          ]
        }
      ],
      "source": [
        "from google.colab import drive\n",
        "drive.mount('/content/drive')"
      ]
    },
    {
      "cell_type": "markdown",
      "metadata": {
        "id": "C8U3DUa3eNsT"
      },
      "source": [
        "## **Importing the necessary libraries**"
      ]
    },
    {
      "cell_type": "code",
      "execution_count": 2,
      "metadata": {
        "id": "-dVzeuF3eQx1"
      },
      "outputs": [],
      "source": [
        "# Library to handle .h5 file formats\n",
        "import h5py\n",
        "\n",
        "# Library for performing numerical computations\n",
        "import numpy as np\n",
        "\n",
        "# Library for visualization\n",
        "import matplotlib.pyplot as plt\n",
        "import seaborn as sns\n",
        "\n",
        "from sklearn.model_selection import train_test_split\n",
        "from sklearn.metrics import classification_report\n",
        "from sklearn.metrics import confusion_matrix\n",
        "\n",
        "import tensorflow as tf\n",
        "\n",
        "from keras import backend\n",
        "from keras.models import Sequential\n",
        "from keras.layers import Dense, Conv2D, MaxPool2D, BatchNormalization, Dropout, Flatten, LeakyReLU\n",
        "from keras.losses import categorical_crossentropy\n",
        "from keras.optimizers import Adam\n",
        "from keras.utils import to_categorical\n",
        "\n",
        "import random"
      ]
    },
    {
      "cell_type": "markdown",
      "metadata": {
        "id": "ucnevGLoyKf_"
      },
      "source": [
        "**Version of tensorflow.**"
      ]
    },
    {
      "cell_type": "code",
      "execution_count": 3,
      "metadata": {
        "colab": {
          "base_uri": "https://localhost:8080/"
        },
        "id": "W5as47YxyJVk",
        "outputId": "d296b967-afbf-4e4f-ffca-de82b26c8642"
      },
      "outputs": [
        {
          "output_type": "stream",
          "name": "stdout",
          "text": [
            "2.11.0\n"
          ]
        }
      ],
      "source": [
        "print(tf.__version__)"
      ]
    },
    {
      "cell_type": "markdown",
      "metadata": {
        "id": "8lsux2ZwyTTR"
      },
      "source": [
        "## **Loading the dataset available as a .h5 file**\n"
      ]
    },
    {
      "cell_type": "code",
      "execution_count": 4,
      "metadata": {
        "id": "BApX9qgNsqV0",
        "scrolled": true,
        "colab": {
          "base_uri": "https://localhost:8080/"
        },
        "outputId": "257bf26c-3185-41f5-963c-2ddc3cbf2e7f"
      },
      "outputs": [
        {
          "output_type": "stream",
          "name": "stdout",
          "text": [
            "Number of images in training set: 42000\n",
            "Number of images in test set: 18000\n"
          ]
        }
      ],
      "source": [
        "# Open the file as read only\n",
        "h5f = h5py.File('/content/drive/MyDrive/ADSP/DeepLearning/SVHN_single_grey1.h5', 'r')\n",
        "\n",
        "# Load the training dataset\n",
        "X_train = h5f['X_train'][:]\n",
        "y_train = h5f['y_train'][:]\n",
        "\n",
        "# Load the test dataset\n",
        "X_test = h5f['X_test'][:]\n",
        "y_test = h5f['y_test'][:]\n",
        "\n",
        "# Close this file\n",
        "h5f.close()\n",
        "\n",
        "print(\"Number of images in training set:\" , len(X_train))\n",
        "print(\"Number of images in test set:\" , len(X_test))"
      ]
    },
    {
      "cell_type": "markdown",
      "source": [
        "##Custom Methods##"
      ],
      "metadata": {
        "id": "ymkWVc5x8VYO"
      }
    },
    {
      "cell_type": "code",
      "source": [
        "# Method to clear out previous model's history and fix random seeds to get same results for each run\n",
        "def soft_reset():\n",
        "\n",
        "  # Clear the previous model's history from the Keras backend.\n",
        "  backend.clear_session()\n",
        "\n",
        "  # Fixing the seed for random number generators\n",
        "  np.random.seed(42)\n",
        "  random.seed(42)\n",
        "  tf.random.set_seed(42)\n",
        "\n",
        "\n",
        "# Method for plotting the validation and training accuracies\n",
        "def accuracyplot(model_hist, nepochs):\n",
        "\n",
        "  dict_hist = model_hist.history\n",
        "\n",
        "  list_ep = [i for i in range(1, nepochs+1)]\n",
        "\n",
        "  plt.figure(figsize = (8, 8))\n",
        "  plt.plot(list_ep, dict_hist['accuracy'], ls = '--', label = 'accuracy')\n",
        "  plt.plot(list_ep, dict_hist['val_accuracy'], ls = '--', label = 'val_accuracy')\n",
        "  plt.ylabel('Accuracy')\n",
        "  plt.xlabel('Epochs')\n",
        "  plt.legend()\n",
        "  plt.show()\n",
        "\n",
        "\n",
        "# Method to generate a classification report and plot the heatmap using confusion matrix\n",
        "def print_metrics(y_test, test_pred):\n",
        "\n",
        "  # Each entry of the target variable is a one-hot encoded vector. \n",
        "  # To print the classification report and confusion matrix, convert each entry of y_test to a single label.\n",
        "  predicted_value = np.argmax(test_pred, axis = -1)\n",
        "  actual_value = np.argmax(y_test, axis = -1)\n",
        "\n",
        "  print(actual_value, predicted_value)\n",
        "\n",
        "  # Printing the classification report\n",
        "  print(classification_report(actual_value, predicted_value))\n",
        "\n",
        "  # Plotting the heatmap using confusion matrix\n",
        "  cm = confusion_matrix(actual_value, predicted_value)     \n",
        "  plt.figure(figsize = (8, 5))\n",
        "  sns.heatmap(cm, annot = True,  fmt = '.0f')\n",
        "  plt.ylabel('Actual')\n",
        "  plt.xlabel('Predicted')\n",
        "  plt.show()\n"
      ],
      "metadata": {
        "id": "YqKZffsU8NQK"
      },
      "execution_count": 5,
      "outputs": []
    },
    {
      "cell_type": "markdown",
      "metadata": {
        "id": "kxODV6HKykuc"
      },
      "source": [
        "## **Visualizing the first 10 images and labels**"
      ]
    },
    {
      "cell_type": "code",
      "execution_count": 6,
      "metadata": {
        "colab": {
          "base_uri": "https://localhost:8080/",
          "height": 96
        },
        "id": "Bvsc8ytHsqWD",
        "outputId": "75590941-d27f-4561-9c35-ae39d5e98cda"
      },
      "outputs": [
        {
          "output_type": "display_data",
          "data": {
            "text/plain": [
              "<Figure size 720x72 with 10 Axes>"
            ],
            "image/png": "[encoded data removed]"
          },
          "metadata": {
            "needs_background": "light"
          }
        },
        {
          "output_type": "stream",
          "name": "stdout",
          "text": [
            "label for each of the above image: [2 6 7 4 4 0 3 0 7 3]\n"
          ]
        }
      ],
      "source": [
        "# Visualizing the first 10 images in the dataset and printing their labels\n",
        "plt.figure(figsize = (10, 1))\n",
        "\n",
        "for i in range(10):\n",
        "\n",
        "    plt.subplot(1, 10, i+1)\n",
        "    plt.imshow(X_train[i], cmap = \"gray\")\n",
        "    plt.axis('off')\n",
        "\n",
        "plt.show()\n",
        "\n",
        "print('label for each of the above image: %s' % (y_train[0:10]))"
      ]
    },
    {
      "cell_type": "markdown",
      "metadata": {
        "id": "kzoyeXHOy80N"
      },
      "source": [
        "## **Data preparation**"
      ]
    },
    {
      "cell_type": "code",
      "execution_count": 7,
      "metadata": {
        "colab": {
          "base_uri": "https://localhost:8080/"
        },
        "id": "NqndzQXng9rL",
        "outputId": "b96e922c-2116-4000-e68d-456ec090c17c"
      },
      "outputs": [
        {
          "output_type": "stream",
          "name": "stdout",
          "text": [
            "Shape: (32, 32)\n",
            "\n",
            "First image:\n",
            " [[ 33.0704  30.2601  26.852  ...  71.4471  58.2204  42.9939]\n",
            " [ 25.2283  25.5533  29.9765 ... 113.0209 103.3639  84.2949]\n",
            " [ 26.2775  22.6137  40.4763 ... 113.3028 121.775  115.4228]\n",
            " ...\n",
            " [ 28.5502  36.212   45.0801 ...  24.1359  25.0927  26.0603]\n",
            " [ 38.4352  26.4733  23.2717 ...  28.1094  29.4683  30.0661]\n",
            " [ 50.2984  26.0773  24.0389 ...  49.6682  50.853   53.0377]]\n"
          ]
        }
      ],
      "source": [
        "# Print the shape and the array of pixels for the first image in the training dataset.\n",
        "print(\"Shape:\", X_train[0].shape)\n",
        "print()\n",
        "print(\"First image:\\n\", X_train[0])"
      ]
    },
    {
      "cell_type": "markdown",
      "source": [
        "## Preprocess the data before building the model ##"
      ],
      "metadata": {
        "id": "A0N5NxRH9nDd"
      }
    },
    {
      "cell_type": "code",
      "execution_count": 8,
      "metadata": {
        "colab": {
          "base_uri": "https://localhost:8080/"
        },
        "id": "D9YPwf9ysqWU",
        "outputId": "d2cfba25-5fb4-4ecb-fd3f-feec865dbba4"
      },
      "outputs": [
        {
          "output_type": "stream",
          "name": "stdout",
          "text": [
            "Training set: (42000, 1024) (42000,)\n",
            "Test set: (18000, 1024) (18000,)\n",
            "Test labels: [[0. 1. 0. ... 0. 0. 0.]\n",
            " [0. 0. 0. ... 1. 0. 0.]\n",
            " [0. 0. 1. ... 0. 0. 0.]\n",
            " ...\n",
            " [0. 0. 0. ... 1. 0. 0.]\n",
            " [0. 0. 0. ... 0. 0. 1.]\n",
            " [0. 0. 1. ... 0. 0. 0.]]\n"
          ]
        }
      ],
      "source": [
        "# Reshaping the dataset to flatten the 2D image into 1D array\n",
        "X_train = X_train.reshape(X_train.shape[0], 1024)\n",
        "X_test = X_test.reshape(X_test.shape[0], 1024)\n",
        "\n",
        "# New shape \n",
        "print('Training set:', X_train.shape, y_train.shape)\n",
        "print('Test set:', X_test.shape, y_test.shape)\n",
        "\n",
        "# Normalized inputs from 0-255 to 0-1\n",
        "X_train = X_train.astype(float)/255.0\n",
        "X_test = X_test.astype(float)/255.0\n",
        "\n",
        "# One-hot encoded output\n",
        "y_train = to_categorical(y_train)\n",
        "y_test = to_categorical(y_test)\n",
        "\n",
        "# Test labels\n",
        "print('Test labels:',y_test)"
      ]
    },
    {
      "cell_type": "markdown",
      "metadata": {
        "id": "yH-gVrzuByNA"
      },
      "source": [
        "## **Model Building**\n",
        "\n",
        "Build an ANN model. Setting the seed for random number generators in Numpy, the Random library in Python, and in TensorFlow, to reproduce the same results every time I run the code."
      ]
    },
    {
      "cell_type": "code",
      "execution_count": 9,
      "metadata": {
        "id": "92lLcma5VwCW"
      },
      "outputs": [],
      "source": [
        "# Clear previous model's history from Keras backend and fixes the seed for random number generators\n",
        "soft_reset()"
      ]
    },
    {
      "cell_type": "markdown",
      "metadata": {
        "id": "UJDUoaEj1d6e"
      },
      "source": [
        "### **ANN Model Architecture**\n",
        "- Sequential model with  2 hidden layers and and an output layer using a softmax for the output layer and relu as the imput layer activation functions.\n",
        "- Compiling the model with the a categorical_crossentropy loss, an Adam optimizer with a learning rate of 0.001), and using accuracy for the performance metric. \n",
        "- Fit on the train data with a validation split of 0.2, batch size = 128, verbose = 1, and epochs = 20. "
      ]
    },
    {
      "cell_type": "code",
      "execution_count": 10,
      "metadata": {
        "colab": {
          "base_uri": "https://localhost:8080/"
        },
        "id": "Cmi81Gr5sqW-",
        "outputId": "7b998903-1691-4b7d-e359-48061132459e"
      },
      "outputs": [
        {
          "output_type": "stream",
          "name": "stdout",
          "text": [
            "Model: \"sequential\"\n",
            "_________________________________________________________________\n",
            " Layer (type)                Output Shape              Param #   \n",
            "=================================================================\n",
            " dense (Dense)               (None, 64)                65600     \n",
            "                                                                 \n",
            " dense_1 (Dense)             (None, 32)                2080      \n",
            "                                                                 \n",
            " dense_2 (Dense)             (None, 10)                330       \n",
            "                                                                 \n",
            "=================================================================\n",
            "Total params: 68,010\n",
            "Trainable params: 68,010\n",
            "Non-trainable params: 0\n",
            "_________________________________________________________________\n"
          ]
        }
      ],
      "source": [
        "# Define the model\n",
        "def ann_model_1():\n",
        "\n",
        "    # Layers will be added sequentially\n",
        "    model = Sequential() \n",
        "    \n",
        "    model.add(Dense(64, activation = 'relu', input_shape = (1024, )))\n",
        "    model.add(Dense(32, activation = 'relu'))\n",
        "\n",
        "    model.add(Dense(10, activation = 'softmax'))\n",
        "\n",
        "    model.compile(loss = 'categorical_crossentropy', optimizer = Adam(learning_rate = 0.001), metrics = ['accuracy'])\n",
        "    \n",
        "    return model\n",
        "\n",
        "# Build the model\n",
        "ann_model1 = ann_model_1()\n",
        "\n",
        "# Print the summary\n",
        "ann_model1.summary()"
      ]
    },
    {
      "cell_type": "code",
      "execution_count": 11,
      "metadata": {
        "colab": {
          "base_uri": "https://localhost:8080/"
        },
        "id": "3Fy3Dif_zcCk",
        "outputId": "3e692790-9ad1-4100-804e-084386f526d4"
      },
      "outputs": [
        {
          "output_type": "stream",
          "name": "stdout",
          "text": [
            "Epoch 1/20\n",
            "263/263 [==============================] - 5s 5ms/step - loss: 2.2966 - accuracy: 0.1149 - val_loss: 2.2563 - val_accuracy: 0.1470\n",
            "Epoch 2/20\n",
            "263/263 [==============================] - 1s 4ms/step - loss: 2.1074 - accuracy: 0.2301 - val_loss: 1.9578 - val_accuracy: 0.3214\n",
            "Epoch 3/20\n",
            "263/263 [==============================] - 1s 4ms/step - loss: 1.8571 - accuracy: 0.3564 - val_loss: 1.7346 - val_accuracy: 0.4093\n",
            "Epoch 4/20\n",
            "263/263 [==============================] - 1s 4ms/step - loss: 1.6566 - accuracy: 0.4415 - val_loss: 1.5700 - val_accuracy: 0.4821\n",
            "Epoch 5/20\n",
            "263/263 [==============================] - 1s 5ms/step - loss: 1.5184 - accuracy: 0.4946 - val_loss: 1.4966 - val_accuracy: 0.4975\n",
            "Epoch 6/20\n",
            "263/263 [==============================] - 1s 5ms/step - loss: 1.4423 - accuracy: 0.5219 - val_loss: 1.3999 - val_accuracy: 0.5406\n",
            "Epoch 7/20\n",
            "263/263 [==============================] - 2s 6ms/step - loss: 1.3963 - accuracy: 0.5404 - val_loss: 1.3722 - val_accuracy: 0.5531\n",
            "Epoch 8/20\n",
            "263/263 [==============================] - 1s 4ms/step - loss: 1.3614 - accuracy: 0.5528 - val_loss: 1.3336 - val_accuracy: 0.5704\n",
            "Epoch 9/20\n",
            "263/263 [==============================] - 1s 4ms/step - loss: 1.3277 - accuracy: 0.5656 - val_loss: 1.3170 - val_accuracy: 0.5752\n",
            "Epoch 10/20\n",
            "263/263 [==============================] - 1s 4ms/step - loss: 1.3072 - accuracy: 0.5753 - val_loss: 1.3005 - val_accuracy: 0.5858\n",
            "Epoch 11/20\n",
            "263/263 [==============================] - 1s 4ms/step - loss: 1.2813 - accuracy: 0.5877 - val_loss: 1.2709 - val_accuracy: 0.5961\n",
            "Epoch 12/20\n",
            "263/263 [==============================] - 1s 4ms/step - loss: 1.2575 - accuracy: 0.5971 - val_loss: 1.2543 - val_accuracy: 0.6023\n",
            "Epoch 13/20\n",
            "263/263 [==============================] - 1s 4ms/step - loss: 1.2312 - accuracy: 0.6095 - val_loss: 1.2138 - val_accuracy: 0.6190\n",
            "Epoch 14/20\n",
            "263/263 [==============================] - 1s 4ms/step - loss: 1.2139 - accuracy: 0.6181 - val_loss: 1.2187 - val_accuracy: 0.6229\n",
            "Epoch 15/20\n",
            "263/263 [==============================] - 1s 4ms/step - loss: 1.1917 - accuracy: 0.6279 - val_loss: 1.1984 - val_accuracy: 0.6254\n",
            "Epoch 16/20\n",
            "263/263 [==============================] - 1s 4ms/step - loss: 1.1798 - accuracy: 0.6336 - val_loss: 1.2021 - val_accuracy: 0.6181\n",
            "Epoch 17/20\n",
            "263/263 [==============================] - 1s 4ms/step - loss: 1.1629 - accuracy: 0.6389 - val_loss: 1.1459 - val_accuracy: 0.6470\n",
            "Epoch 18/20\n",
            "263/263 [==============================] - 1s 5ms/step - loss: 1.1483 - accuracy: 0.6431 - val_loss: 1.1525 - val_accuracy: 0.6421\n",
            "Epoch 19/20\n",
            "263/263 [==============================] - 1s 5ms/step - loss: 1.1402 - accuracy: 0.6483 - val_loss: 1.1363 - val_accuracy: 0.6473\n",
            "Epoch 20/20\n",
            "263/263 [==============================] - 1s 5ms/step - loss: 1.1250 - accuracy: 0.6513 - val_loss: 1.1514 - val_accuracy: 0.6399\n"
          ]
        }
      ],
      "source": [
        "# Fit on the train data with a validation split of 0.2, batch size = 128, verbose = 1, and epochs = 20\n",
        "# Store the model building history to use later for visualization.\n",
        "history_ann_model_1 = ann_model1.fit(X_train, y_train, validation_split = 0.2, batch_size = 128, verbose = 1, epochs = 20)"
      ]
    },
    {
      "cell_type": "markdown",
      "metadata": {
        "id": "tKOckG-KPyLg"
      },
      "source": [
        "#### **Plotting the validation and training accuracies**"
      ]
    },
    {
      "cell_type": "code",
      "execution_count": 12,
      "metadata": {
        "colab": {
          "base_uri": "https://localhost:8080/",
          "height": 497
        },
        "id": "NAtzQe2Loucw",
        "outputId": "3bc3b842-c889-47a2-f1f4-a32eee49a5a7"
      },
      "outputs": [
        {
          "output_type": "display_data",
          "data": {
            "text/plain": [
              "<Figure size 576x576 with 1 Axes>"
            ],
            "image/png": "[encoded data removed]"
          },
          "metadata": {
            "needs_background": "light"
          }
        }
      ],
      "source": [
        "accuracyplot(history_ann_model_1, 20)"
      ]
    },
    {
      "cell_type": "markdown",
      "metadata": {
        "id": "pGBbQpLONX7k"
      },
      "source": [
        "**Observations:\n",
        "\n",
        "The model is performing similarly on the training and validation/test data which implies it has generalized well. The accuracy is improving as the number of epochs increases even at 20. Accuracy is 69.25% for training and 69.04% for validation data at the end of 20 epochs. The number of epochs can be increased in the next model in addition to adding more layers and increasing complexity to improve performance.\n",
        "\n",
        "Will build a second model with higher complexity to improve the performance.\n",
        "\n"
      ]
    },
    {
      "cell_type": "markdown",
      "metadata": {
        "id": "lT6o3TIKuCtk"
      },
      "source": [
        "### **ANN Second Model**\n",
        "- Sequential model with 5 hidden layers and an output layer with Batch Normalization and drop out layer added to prevent overfitting. \n",
        "- Compile the model with an even smaller learning rate of 0.0005.\n",
        "- Fit on the train data with a validation split of 0.2, batch size = 128, verbose = 1, and epochs = 30."
      ]
    },
    {
      "cell_type": "code",
      "execution_count": 13,
      "metadata": {
        "colab": {
          "base_uri": "https://localhost:8080/"
        },
        "id": "EEPYLFIPnSDP",
        "outputId": "e4201895-242b-4bb0-d40c-b3f00a2c2a21"
      },
      "outputs": [
        {
          "output_type": "stream",
          "name": "stdout",
          "text": [
            "Model: \"sequential\"\n",
            "_________________________________________________________________\n",
            " Layer (type)                Output Shape              Param #   \n",
            "=================================================================\n",
            " dense (Dense)               (None, 256)               262400    \n",
            "                                                                 \n",
            " dense_1 (Dense)             (None, 128)               32896     \n",
            "                                                                 \n",
            " dropout (Dropout)           (None, 128)               0         \n",
            "                                                                 \n",
            " dense_2 (Dense)             (None, 64)                8256      \n",
            "                                                                 \n",
            " dense_3 (Dense)             (None, 64)                4160      \n",
            "                                                                 \n",
            " dense_4 (Dense)             (None, 32)                2080      \n",
            "                                                                 \n",
            " batch_normalization (BatchN  (None, 32)               128       \n",
            " ormalization)                                                   \n",
            "                                                                 \n",
            " dense_5 (Dense)             (None, 10)                330       \n",
            "                                                                 \n",
            "=================================================================\n",
            "Total params: 310,250\n",
            "Trainable params: 310,186\n",
            "Non-trainable params: 64\n",
            "_________________________________________________________________\n"
          ]
        }
      ],
      "source": [
        "# Define the model\n",
        "def ann_model_2():\n",
        "\n",
        "    model = Sequential()  \n",
        "    \n",
        "    # First hidden layer with 256 nodes and the relu activation and the input shape = (1024, )\n",
        "    model.add(Dense(256, activation = 'relu', input_shape = (1024, )))\n",
        "    model.add(Dense(128, activation = 'relu'))\n",
        "\n",
        "    model.add(Dropout(0.2))\n",
        "\n",
        "    model.add(Dense(64, activation = 'relu'))\n",
        "    model.add(Dense(64, activation = 'relu'))\n",
        "    model.add(Dense(32, activation = 'relu'))\n",
        "\n",
        "    model.add(BatchNormalization())\n",
        "\n",
        "    # Output layer with activation as 'softmax' and number of nodes equal to the number of classes, i.e., 10\n",
        "    model.add(Dense(10, activation = 'softmax'))\n",
        "\n",
        "    # Compile the model categorical_crossentropy loss, Adam optimizer with learning_rate = 0.0005\n",
        "    model.compile(loss = 'categorical_crossentropy', optimizer = Adam(learning_rate = 0.0005), metrics = ['accuracy'])\n",
        "\n",
        "    return model\n",
        "\n",
        "# Clear previous model's history from Keras backend and fixes the seed for random number generators\n",
        "soft_reset()\n",
        "\n",
        "# Build the model\n",
        "ann_model_2 = ann_model_2()\n",
        "\n",
        "# Print the model summary\n",
        "ann_model_2.summary()"
      ]
    },
    {
      "cell_type": "code",
      "execution_count": 14,
      "metadata": {
        "colab": {
          "base_uri": "https://localhost:8080/"
        },
        "id": "IQ0Sc4R-y-uu",
        "outputId": "18695599-a1ed-4bf2-a6f7-758401646f6c"
      },
      "outputs": [
        {
          "output_type": "stream",
          "name": "stdout",
          "text": [
            "Epoch 1/30\n",
            "263/263 [==============================] - 2s 7ms/step - loss: 2.3268 - accuracy: 0.0988 - val_loss: 2.3014 - val_accuracy: 0.0955\n",
            "Epoch 2/30\n",
            "263/263 [==============================] - 1s 5ms/step - loss: 2.2352 - accuracy: 0.1416 - val_loss: 2.1524 - val_accuracy: 0.2055\n",
            "Epoch 3/30\n",
            "263/263 [==============================] - 1s 5ms/step - loss: 1.8422 - accuracy: 0.3295 - val_loss: 1.7476 - val_accuracy: 0.4546\n",
            "Epoch 4/30\n",
            "263/263 [==============================] - 1s 5ms/step - loss: 1.4751 - accuracy: 0.5029 - val_loss: 1.3038 - val_accuracy: 0.5719\n",
            "Epoch 5/30\n",
            "263/263 [==============================] - 2s 6ms/step - loss: 1.2988 - accuracy: 0.5735 - val_loss: 1.2294 - val_accuracy: 0.5890\n",
            "Epoch 6/30\n",
            "263/263 [==============================] - 2s 7ms/step - loss: 1.1930 - accuracy: 0.6117 - val_loss: 1.1445 - val_accuracy: 0.6314\n",
            "Epoch 7/30\n",
            "263/263 [==============================] - 1s 5ms/step - loss: 1.1288 - accuracy: 0.6392 - val_loss: 1.0679 - val_accuracy: 0.6610\n",
            "Epoch 8/30\n",
            "263/263 [==============================] - 1s 5ms/step - loss: 1.0669 - accuracy: 0.6556 - val_loss: 1.0314 - val_accuracy: 0.6765\n",
            "Epoch 9/30\n",
            "263/263 [==============================] - 1s 5ms/step - loss: 1.0357 - accuracy: 0.6692 - val_loss: 1.0697 - val_accuracy: 0.6507\n",
            "Epoch 10/30\n",
            "263/263 [==============================] - 1s 5ms/step - loss: 1.0043 - accuracy: 0.6800 - val_loss: 0.9565 - val_accuracy: 0.7040\n",
            "Epoch 11/30\n",
            "263/263 [==============================] - 1s 5ms/step - loss: 0.9776 - accuracy: 0.6923 - val_loss: 0.9827 - val_accuracy: 0.6894\n",
            "Epoch 12/30\n",
            "263/263 [==============================] - 1s 6ms/step - loss: 0.9441 - accuracy: 0.7014 - val_loss: 0.9666 - val_accuracy: 0.6933\n",
            "Epoch 13/30\n",
            "263/263 [==============================] - 1s 5ms/step - loss: 0.9296 - accuracy: 0.7057 - val_loss: 0.9480 - val_accuracy: 0.7032\n",
            "Epoch 14/30\n",
            "263/263 [==============================] - 2s 7ms/step - loss: 0.9084 - accuracy: 0.7128 - val_loss: 0.8257 - val_accuracy: 0.7424\n",
            "Epoch 15/30\n",
            "263/263 [==============================] - 4s 14ms/step - loss: 0.8869 - accuracy: 0.7176 - val_loss: 0.8332 - val_accuracy: 0.7404\n",
            "Epoch 16/30\n",
            "263/263 [==============================] - 2s 7ms/step - loss: 0.8818 - accuracy: 0.7171 - val_loss: 0.8196 - val_accuracy: 0.7414\n",
            "Epoch 17/30\n",
            "263/263 [==============================] - 1s 5ms/step - loss: 0.8522 - accuracy: 0.7302 - val_loss: 0.8190 - val_accuracy: 0.7408\n",
            "Epoch 18/30\n",
            "263/263 [==============================] - 1s 5ms/step - loss: 0.8476 - accuracy: 0.7297 - val_loss: 0.8618 - val_accuracy: 0.7306\n",
            "Epoch 19/30\n",
            "263/263 [==============================] - 1s 5ms/step - loss: 0.8375 - accuracy: 0.7324 - val_loss: 0.7975 - val_accuracy: 0.7473\n",
            "Epoch 20/30\n",
            "263/263 [==============================] - 1s 5ms/step - loss: 0.8262 - accuracy: 0.7401 - val_loss: 0.8223 - val_accuracy: 0.7408\n",
            "Epoch 21/30\n",
            "263/263 [==============================] - 1s 5ms/step - loss: 0.8153 - accuracy: 0.7402 - val_loss: 0.8027 - val_accuracy: 0.7431\n",
            "Epoch 22/30\n",
            "263/263 [==============================] - 2s 6ms/step - loss: 0.8062 - accuracy: 0.7439 - val_loss: 0.8283 - val_accuracy: 0.7342\n",
            "Epoch 23/30\n",
            "263/263 [==============================] - 2s 6ms/step - loss: 0.7947 - accuracy: 0.7482 - val_loss: 0.7735 - val_accuracy: 0.7577\n",
            "Epoch 24/30\n",
            "263/263 [==============================] - 2s 7ms/step - loss: 0.7934 - accuracy: 0.7478 - val_loss: 0.8031 - val_accuracy: 0.7436\n",
            "Epoch 25/30\n",
            "263/263 [==============================] - 1s 5ms/step - loss: 0.7791 - accuracy: 0.7515 - val_loss: 0.8096 - val_accuracy: 0.7408\n",
            "Epoch 26/30\n",
            "263/263 [==============================] - 1s 5ms/step - loss: 0.7724 - accuracy: 0.7551 - val_loss: 0.7606 - val_accuracy: 0.7601\n",
            "Epoch 27/30\n",
            "263/263 [==============================] - 1s 5ms/step - loss: 0.7659 - accuracy: 0.7560 - val_loss: 0.7452 - val_accuracy: 0.7638\n",
            "Epoch 28/30\n",
            "263/263 [==============================] - 1s 5ms/step - loss: 0.7564 - accuracy: 0.7588 - val_loss: 0.7753 - val_accuracy: 0.7543\n",
            "Epoch 29/30\n",
            "263/263 [==============================] - 1s 5ms/step - loss: 0.7536 - accuracy: 0.7605 - val_loss: 0.7623 - val_accuracy: 0.7580\n",
            "Epoch 30/30\n",
            "263/263 [==============================] - 1s 5ms/step - loss: 0.7501 - accuracy: 0.7614 - val_loss: 0.7488 - val_accuracy: 0.7680\n"
          ]
        }
      ],
      "source": [
        "# Fit on the train data with 30 epochs\n",
        "history_ann_model_2 = ann_model_2.fit(X_train, y_train, validation_split = 0.2, batch_size = 128, verbose = 1, epochs = 30)"
      ]
    },
    {
      "cell_type": "code",
      "execution_count": 15,
      "metadata": {
        "colab": {
          "base_uri": "https://localhost:8080/",
          "height": 500
        },
        "id": "01ig6BrF1KVy",
        "outputId": "b4b63f6b-d4d3-4973-ee39-03f9e4b500f4"
      },
      "outputs": [
        {
          "output_type": "display_data",
          "data": {
            "text/plain": [
              "<Figure size 576x576 with 1 Axes>"
            ],
            "image/png": "[encoded data removed]"
          },
          "metadata": {
            "needs_background": "light"
          }
        }
      ],
      "source": [
        "# Plotting the accuracies\n",
        "accuracyplot(history_ann_model_2, 30)"
      ]
    },
    {
      "cell_type": "markdown",
      "metadata": {
        "id": "VPW1LlD61RDn"
      },
      "source": [
        "**Observations:\n",
        "\n",
        "Increasing the complexity and number of epochs has improved accuracy of the model and has continued to perform well on the validation data implying good generalization. At the end of 30 epochs the model accurary on training data is 77.11% and 76.39% on the test validation data. The loss has also decreased a lot from over 1 in the previous model to .77 and 0.76 on the training and validation data. Due to consistency in the performance between the 2 datas we can conclude that the model has learned well and is not overfitting the data."
      ]
    },
    {
      "cell_type": "markdown",
      "metadata": {
        "id": "8kuXx9Bvu00f"
      },
      "source": [
        "#### **Predictions on the test data** \n"
      ]
    },
    {
      "cell_type": "code",
      "execution_count": 16,
      "metadata": {
        "colab": {
          "base_uri": "https://localhost:8080/"
        },
        "id": "PGj4FPWBeEUF",
        "outputId": "caa9771d-86a2-478a-fbbb-67355ddd5ac0"
      },
      "outputs": [
        {
          "output_type": "stream",
          "name": "stdout",
          "text": [
            "563/563 [==============================] - 1s 2ms/step\n"
          ]
        }
      ],
      "source": [
        "# Make predictions on the test set using the second model.\n",
        "test_pred = ann_model_2.predict(X_test)"
      ]
    },
    {
      "cell_type": "markdown",
      "metadata": {
        "id": "7kxSZWGXeL91"
      },
      "source": [
        "#### **Performance Metrics**\n",
        "Generated a classification report and plotted the heatmap using confusion matrix"
      ]
    },
    {
      "cell_type": "code",
      "execution_count": 17,
      "metadata": {
        "colab": {
          "base_uri": "https://localhost:8080/",
          "height": 655
        },
        "id": "JB05lPBAIe_P",
        "outputId": "421abc5a-e523-4971-eb8c-6d6b58f4bd66"
      },
      "outputs": [
        {
          "output_type": "stream",
          "name": "stdout",
          "text": [
            "[1 7 2 ... 7 9 2] [2 2 2 ... 7 9 2]\n",
            "              precision    recall  f1-score   support\n",
            "\n",
            "           0       0.85      0.75      0.80      1814\n",
            "           1       0.76      0.78      0.77      1828\n",
            "           2       0.75      0.79      0.77      1803\n",
            "           3       0.75      0.71      0.73      1719\n",
            "           4       0.74      0.85      0.79      1812\n",
            "           5       0.74      0.75      0.74      1768\n",
            "           6       0.79      0.76      0.77      1832\n",
            "           7       0.75      0.81      0.78      1808\n",
            "           8       0.77      0.70      0.74      1812\n",
            "           9       0.75      0.74      0.74      1804\n",
            "\n",
            "    accuracy                           0.76     18000\n",
            "   macro avg       0.77      0.76      0.76     18000\n",
            "weighted avg       0.77      0.76      0.76     18000\n",
            "\n"
          ]
        },
        {
          "output_type": "display_data",
          "data": {
            "text/plain": [
              "<Figure size 576x360 with 2 Axes>"
            ],
            "image/png": "[encoded data removed]"
          },
          "metadata": {
            "needs_background": "light"
          }
        }
      ],
      "source": [
        "# Printing the classification report and plot the heatmap using confusion matrix\n",
        "print_metrics(y_test, test_pred)"
      ]
    },
    {
      "cell_type": "markdown",
      "metadata": {
        "id": "DjErl4GA2u9s"
      },
      "source": [
        "**Final Observations:\n",
        "\n",
        "The model has classified most digits correctly although there are several misclassifications. There is some confusion between digits 1 and 7 which is understandable. 5 and 3, and 4 and 1 also have more than a 100 misclassifications. There are several combinations like 5-0, 2-0, 4-7, 7-8 etc where there are very few misclassfications. Overall the model has been to classify the digits successfully with an accuracy of 76% which shows room for improvement. One could try to add more layers to further reduce the misclassification as the accuracy overall consistently increased as the number of epochs increased. A CNN model could be built by adding convolution and pooling layers to improve feature learning and overall performance. "
      ]
    },
    {
      "cell_type": "markdown",
      "metadata": {
        "id": "cQiiLJdPipo1"
      },
      "source": [
        "### **CNN Model Architecture**\n",
        "\n",
        "Added a few convolutions for better feature learning and used LeakyRelu for activation functions. "
      ]
    },
    {
      "cell_type": "code",
      "execution_count": 18,
      "metadata": {
        "colab": {
          "base_uri": "https://localhost:8080/"
        },
        "id": "TdimUqFaiXQ-",
        "outputId": "a002d588-db26-4c56-c2cc-fbda2fa092e7"
      },
      "outputs": [
        {
          "output_type": "stream",
          "name": "stdout",
          "text": [
            "Training set: (42000, 32, 32, 1) (42000, 10)\n",
            "Test set: (18000, 32, 32, 1) (18000, 10)\n"
          ]
        },
        {
          "output_type": "execute_result",
          "data": {
            "text/plain": [
              "array([[0., 0., 1., ..., 0., 0., 0.],\n",
              "       [0., 0., 0., ..., 0., 0., 0.],\n",
              "       [0., 0., 0., ..., 1., 0., 0.],\n",
              "       ...,\n",
              "       [0., 0., 0., ..., 1., 0., 0.],\n",
              "       [1., 0., 0., ..., 0., 0., 0.],\n",
              "       [0., 0., 0., ..., 0., 0., 0.]], dtype=float32)"
            ]
          },
          "metadata": {},
          "execution_count": 18
        }
      ],
      "source": [
        "# Reshaping the dataset to a 4D array to be able to pass as input to Convolution layer. \n",
        "X_train = X_train.reshape(X_train.shape[0], 32, 32, 1)\n",
        "X_test = X_test.reshape(X_test.shape[0], 32, 32, 1)\n",
        "\n",
        "# New shape \n",
        "print('Training set:', X_train.shape, y_train.shape)\n",
        "print('Test set:', X_test.shape, y_test.shape)\n",
        "y_train"
      ]
    },
    {
      "cell_type": "code",
      "execution_count": 19,
      "metadata": {
        "colab": {
          "base_uri": "https://localhost:8080/"
        },
        "id": "zTvsmfARjj7P",
        "outputId": "880cb586-d87c-4011-ce83-407783bf281f"
      },
      "outputs": [
        {
          "output_type": "stream",
          "name": "stdout",
          "text": [
            "Model: \"sequential\"\n",
            "_________________________________________________________________\n",
            " Layer (type)                Output Shape              Param #   \n",
            "=================================================================\n",
            " conv2d (Conv2D)             (None, 32, 32, 16)        160       \n",
            "                                                                 \n",
            " leaky_re_lu (LeakyReLU)     (None, 32, 32, 16)        0         \n",
            "                                                                 \n",
            " conv2d_1 (Conv2D)           (None, 32, 32, 32)        4640      \n",
            "                                                                 \n",
            " leaky_re_lu_1 (LeakyReLU)   (None, 32, 32, 32)        0         \n",
            "                                                                 \n",
            " max_pooling2d (MaxPooling2D  (None, 16, 16, 32)       0         \n",
            " )                                                               \n",
            "                                                                 \n",
            " flatten (Flatten)           (None, 8192)              0         \n",
            "                                                                 \n",
            " dense (Dense)               (None, 32)                262176    \n",
            "                                                                 \n",
            " leaky_re_lu_2 (LeakyReLU)   (None, 32)                0         \n",
            "                                                                 \n",
            " dense_1 (Dense)             (None, 10)                330       \n",
            "                                                                 \n",
            "=================================================================\n",
            "Total params: 267,306\n",
            "Trainable params: 267,306\n",
            "Non-trainable params: 0\n",
            "_________________________________________________________________\n"
          ]
        }
      ],
      "source": [
        "# Define the model\n",
        "def cnn_model_1():\n",
        "\n",
        "    model = Sequential() \n",
        "\n",
        "    # First Convolutional layer with 16 filters and the kernel size of 3x3. Use the 'same' padding and provide the input shape = (32, 32, 1)\n",
        "    model.add(Conv2D(filters = 16, kernel_size = (3, 3), padding = \"same\", input_shape = (32, 32, 1)))\n",
        "    # Add a LeakyRelu layer with the slope equal to 0.1\n",
        "    model.add(LeakyReLU(0.1))\n",
        "\n",
        "    model.add(Conv2D(filters = 32, kernel_size = (3, 3), padding = \"same\"))\n",
        "    model.add(LeakyReLU(0.1))\n",
        "\n",
        "    model.add(MaxPool2D(pool_size = (2, 2)))\n",
        "\n",
        "    # Flatten the output from the previous layer\n",
        "    model.add(Flatten())\n",
        "\n",
        "    model.add(Dense(32))\n",
        "    model.add(LeakyReLU(0.1))\n",
        "    model.add(Dense(10, activation = 'softmax'))\n",
        "\n",
        "    # Compile the model with the categorical_crossentropy loss, an Adam optimizer with learning_rate = 0.001\n",
        "    model.compile(loss = 'categorical_crossentropy', optimizer = Adam(learning_rate = 0.001), metrics = ['accuracy'])\n",
        "    \n",
        "    return model\n",
        "\n",
        "## Clear previous model's history from Keras backend and fixes the seed for random number generators\n",
        "soft_reset()\n",
        "\n",
        "# Build the model\n",
        "cnn_model_1 = cnn_model_1()\n",
        "\n",
        "# Print the model summary\n",
        "cnn_model_1.summary()"
      ]
    },
    {
      "cell_type": "code",
      "execution_count": 20,
      "metadata": {
        "colab": {
          "base_uri": "https://localhost:8080/"
        },
        "id": "bZpVUfuvkR2Q",
        "outputId": "eca6df4a-fc7d-4928-b738-ddcc6a2e09d0"
      },
      "outputs": [
        {
          "output_type": "stream",
          "name": "stdout",
          "text": [
            "Epoch 1/20\n",
            "1050/1050 [==============================] - 12s 5ms/step - loss: 1.1128 - accuracy: 0.6399 - val_loss: 0.6391 - val_accuracy: 0.8151\n",
            "Epoch 2/20\n",
            "1050/1050 [==============================] - 6s 6ms/step - loss: 0.5442 - accuracy: 0.8444 - val_loss: 0.5228 - val_accuracy: 0.8492\n",
            "Epoch 3/20\n",
            "1050/1050 [==============================] - 5s 4ms/step - loss: 0.4518 - accuracy: 0.8662 - val_loss: 0.5117 - val_accuracy: 0.8520\n",
            "Epoch 4/20\n",
            "1050/1050 [==============================] - 5s 5ms/step - loss: 0.3887 - accuracy: 0.8855 - val_loss: 0.4506 - val_accuracy: 0.8717\n",
            "Epoch 5/20\n",
            "1050/1050 [==============================] - 6s 6ms/step - loss: 0.3408 - accuracy: 0.8963 - val_loss: 0.4585 - val_accuracy: 0.8675\n",
            "Epoch 6/20\n",
            "1050/1050 [==============================] - 5s 5ms/step - loss: 0.3020 - accuracy: 0.9084 - val_loss: 0.4687 - val_accuracy: 0.8714\n",
            "Epoch 7/20\n",
            "1050/1050 [==============================] - 6s 6ms/step - loss: 0.2706 - accuracy: 0.9199 - val_loss: 0.4633 - val_accuracy: 0.8696\n",
            "Epoch 8/20\n",
            "1050/1050 [==============================] - 5s 4ms/step - loss: 0.2379 - accuracy: 0.9274 - val_loss: 0.4945 - val_accuracy: 0.8650\n",
            "Epoch 9/20\n",
            "1050/1050 [==============================] - 5s 5ms/step - loss: 0.2158 - accuracy: 0.9336 - val_loss: 0.4855 - val_accuracy: 0.8711\n",
            "Epoch 10/20\n",
            "1050/1050 [==============================] - 5s 5ms/step - loss: 0.1948 - accuracy: 0.9398 - val_loss: 0.5030 - val_accuracy: 0.8737\n",
            "Epoch 11/20\n",
            "1050/1050 [==============================] - 5s 4ms/step - loss: 0.1738 - accuracy: 0.9457 - val_loss: 0.5458 - val_accuracy: 0.8726\n",
            "Epoch 12/20\n",
            "1050/1050 [==============================] - 6s 6ms/step - loss: 0.1558 - accuracy: 0.9514 - val_loss: 0.5638 - val_accuracy: 0.8687\n",
            "Epoch 13/20\n",
            "1050/1050 [==============================] - 6s 5ms/step - loss: 0.1373 - accuracy: 0.9569 - val_loss: 0.6043 - val_accuracy: 0.8668\n",
            "Epoch 14/20\n",
            "1050/1050 [==============================] - 5s 5ms/step - loss: 0.1273 - accuracy: 0.9602 - val_loss: 0.6564 - val_accuracy: 0.8656\n",
            "Epoch 15/20\n",
            "1050/1050 [==============================] - 6s 6ms/step - loss: 0.1172 - accuracy: 0.9623 - val_loss: 0.6388 - val_accuracy: 0.8730\n",
            "Epoch 16/20\n",
            "1050/1050 [==============================] - 5s 4ms/step - loss: 0.1028 - accuracy: 0.9674 - val_loss: 0.6656 - val_accuracy: 0.8681\n",
            "Epoch 17/20\n",
            "1050/1050 [==============================] - 6s 6ms/step - loss: 0.0910 - accuracy: 0.9705 - val_loss: 0.7359 - val_accuracy: 0.8693\n",
            "Epoch 18/20\n",
            "1050/1050 [==============================] - 5s 5ms/step - loss: 0.0888 - accuracy: 0.9716 - val_loss: 0.7753 - val_accuracy: 0.8624\n",
            "Epoch 19/20\n",
            "1050/1050 [==============================] - 5s 4ms/step - loss: 0.0778 - accuracy: 0.9745 - val_loss: 0.8123 - val_accuracy: 0.8669\n",
            "Epoch 20/20\n",
            "1050/1050 [==============================] - 6s 5ms/step - loss: 0.0715 - accuracy: 0.9765 - val_loss: 0.8848 - val_accuracy: 0.8690\n"
          ]
        }
      ],
      "source": [
        "# Fit the model on the training data with a validation split of 0.2, batch size = 32, verbose = 1, and epochs = 20. \n",
        "history_cnn_model_1 = cnn_model_1.fit(X_train, y_train, validation_split = 0.2, batch_size = 32, verbose = 1, epochs = 20)"
      ]
    },
    {
      "cell_type": "code",
      "execution_count": 21,
      "metadata": {
        "colab": {
          "base_uri": "https://localhost:8080/",
          "height": 497
        },
        "id": "DGwPazEWkWcp",
        "outputId": "055aa2dd-3021-4b02-f9f7-5dad0668fb7c"
      },
      "outputs": [
        {
          "output_type": "display_data",
          "data": {
            "text/plain": [
              "<Figure size 576x576 with 1 Axes>"
            ],
            "image/png": "[encoded data removed]"
          },
          "metadata": {
            "needs_background": "light"
          }
        }
      ],
      "source": [
        "# Plotting the accuracies\n",
        "accuracyplot(history_cnn_model_1, 20)"
      ]
    },
    {
      "cell_type": "markdown",
      "metadata": {
        "id": "VAYiM1k0kZ9v"
      },
      "source": [
        "**Observations:\n",
        "\n",
        "The model seems to have overfitted the training data as after a couple of epochs the accuracy on the validation/test data is not increasing and is stagnant at about 86%. The validation loss also increased after the 3rd epoch. The accuracy on the training data however is 97% at the end of 20 epochs with a constant increase in accuracy and decrease in loss. We can use Batch Normalization and Dropouts to reduce the overfitting for a better model. "
      ]
    },
    {
      "cell_type": "markdown",
      "metadata": {
        "id": "z0qgLMBZm5-K"
      },
      "source": [
        "Built a second CNN model get more generalized performance.\n",
        "\n",
        "First, we need to clear the previous model's history from the Keras backend. Also, let's fix the seed again after clearing the backend."
      ]
    },
    {
      "cell_type": "markdown",
      "metadata": {
        "id": "jIKsDtBokyuc"
      },
      "source": [
        "### **CNN Second Model**\n",
        "\n",
        "Sequential model with first Convolutional layer with 16 filters and the kernel size of 3x3. Added LeakyRelu layers with the slope of 0.1, and more convultion layers with MaxPooling and Batch normalization to address overfitting."
      ]
    },
    {
      "cell_type": "code",
      "execution_count": 22,
      "metadata": {
        "colab": {
          "base_uri": "https://localhost:8080/"
        },
        "id": "KuqLOPAtk2wh",
        "outputId": "8968a044-81bf-4cfb-fee9-b95538153c6c"
      },
      "outputs": [
        {
          "output_type": "stream",
          "name": "stdout",
          "text": [
            "Model: \"sequential\"\n",
            "_________________________________________________________________\n",
            " Layer (type)                Output Shape              Param #   \n",
            "=================================================================\n",
            " conv2d (Conv2D)             (None, 32, 32, 16)        160       \n",
            "                                                                 \n",
            " leaky_re_lu (LeakyReLU)     (None, 32, 32, 16)        0         \n",
            "                                                                 \n",
            " conv2d_1 (Conv2D)           (None, 32, 32, 32)        4640      \n",
            "                                                                 \n",
            " leaky_re_lu_1 (LeakyReLU)   (None, 32, 32, 32)        0         \n",
            "                                                                 \n",
            " max_pooling2d (MaxPooling2D  (None, 16, 16, 32)       0         \n",
            " )                                                               \n",
            "                                                                 \n",
            " batch_normalization (BatchN  (None, 16, 16, 32)       128       \n",
            " ormalization)                                                   \n",
            "                                                                 \n",
            " conv2d_2 (Conv2D)           (None, 16, 16, 32)        9248      \n",
            "                                                                 \n",
            " leaky_re_lu_2 (LeakyReLU)   (None, 16, 16, 32)        0         \n",
            "                                                                 \n",
            " conv2d_3 (Conv2D)           (None, 16, 16, 64)        18496     \n",
            "                                                                 \n",
            " leaky_re_lu_3 (LeakyReLU)   (None, 16, 16, 64)        0         \n",
            "                                                                 \n",
            " max_pooling2d_1 (MaxPooling  (None, 8, 8, 64)         0         \n",
            " 2D)                                                             \n",
            "                                                                 \n",
            " batch_normalization_1 (Batc  (None, 8, 8, 64)         256       \n",
            " hNormalization)                                                 \n",
            "                                                                 \n",
            " flatten (Flatten)           (None, 4096)              0         \n",
            "                                                                 \n",
            " dense (Dense)               (None, 32)                131104    \n",
            "                                                                 \n",
            " leaky_re_lu_4 (LeakyReLU)   (None, 32)                0         \n",
            "                                                                 \n",
            " dropout (Dropout)           (None, 32)                0         \n",
            "                                                                 \n",
            " dense_1 (Dense)             (None, 10)                330       \n",
            "                                                                 \n",
            "=================================================================\n",
            "Total params: 164,362\n",
            "Trainable params: 164,170\n",
            "Non-trainable params: 192\n",
            "_________________________________________________________________\n"
          ]
        }
      ],
      "source": [
        "# Define the model\n",
        "def cnn_model_2():\n",
        "    \n",
        "    model = Sequential()\n",
        "    \n",
        "    # First Convolutional layer with 16 filters and the kernel size of 3x3. Use the 'same' padding and provide the input shape = (32, 32, 1)\n",
        "    model.add(Conv2D(filters = 16, kernel_size = (3, 3), padding = \"same\", input_shape = (32, 32, 1)))\n",
        "    model.add(LeakyReLU(0.1))\n",
        "\n",
        "    model.add(Conv2D(filters = 32, kernel_size = (3, 3), padding = \"same\"))\n",
        "    model.add(LeakyReLU(0.1))\n",
        "    model.add(MaxPool2D(pool_size = (2, 2)))\n",
        "\n",
        "    model.add(BatchNormalization())\n",
        "\n",
        "    model.add(Conv2D(filters = 32, kernel_size = (3, 3), padding = \"same\"))\n",
        "    model.add(LeakyReLU(0.1))\n",
        "\n",
        "    model.add(Conv2D(filters = 64, kernel_size = (3, 3), padding = \"same\"))\n",
        "    model.add(LeakyReLU(0.1))\n",
        "\n",
        "    model.add(MaxPool2D(pool_size = (2, 2)))\n",
        "\n",
        "    model.add(BatchNormalization())\n",
        "\n",
        "    # Flatten the output from the previous layer\n",
        "    model.add(Flatten())\n",
        "\n",
        "    model.add(Dense(32))\n",
        "    model.add(LeakyReLU(0.1))\n",
        "\n",
        "    model.add(Dropout(0.5))\n",
        "\n",
        "    # Add the final output layer with nodes equal to the number of classes, i.e., 10 and 'softmax' as the activation function\n",
        "    model.add(Dense(10, activation = 'softmax'))\n",
        "\n",
        "    model.compile(loss = 'categorical_crossentropy', optimizer = Adam(learning_rate = 0.001), metrics = ['accuracy'])\n",
        "    \n",
        "    return model\n",
        "\n",
        "## Clear previous model's history from Keras backend and fixes the seed for random number generators\n",
        "soft_reset()\n",
        "\n",
        "# Build the model\n",
        "cnn_model_2 = cnn_model_2()\n",
        "\n",
        "cnn_model_2.summary()"
      ]
    },
    {
      "cell_type": "code",
      "execution_count": 23,
      "metadata": {
        "colab": {
          "base_uri": "https://localhost:8080/"
        },
        "id": "3GPpb1IylGeH",
        "outputId": "291bf090-5dce-4c9c-df1c-4eeb09460d53"
      },
      "outputs": [
        {
          "output_type": "stream",
          "name": "stdout",
          "text": [
            "Epoch 1/30\n",
            "263/263 [==============================] - 4s 13ms/step - loss: 1.3286 - accuracy: 0.5467 - val_loss: 2.2302 - val_accuracy: 0.1776\n",
            "Epoch 2/30\n",
            "263/263 [==============================] - 3s 10ms/step - loss: 0.6646 - accuracy: 0.7968 - val_loss: 0.5288 - val_accuracy: 0.8556\n",
            "Epoch 3/30\n",
            "263/263 [==============================] - 3s 12ms/step - loss: 0.5452 - accuracy: 0.8336 - val_loss: 0.4483 - val_accuracy: 0.8700\n",
            "Epoch 4/30\n",
            "263/263 [==============================] - 3s 10ms/step - loss: 0.4909 - accuracy: 0.8490 - val_loss: 0.4026 - val_accuracy: 0.8848\n",
            "Epoch 5/30\n",
            "263/263 [==============================] - 3s 10ms/step - loss: 0.4381 - accuracy: 0.8626 - val_loss: 0.3656 - val_accuracy: 0.8982\n",
            "Epoch 6/30\n",
            "263/263 [==============================] - 3s 10ms/step - loss: 0.3987 - accuracy: 0.8772 - val_loss: 0.3714 - val_accuracy: 0.8950\n",
            "Epoch 7/30\n",
            "263/263 [==============================] - 3s 10ms/step - loss: 0.3766 - accuracy: 0.8846 - val_loss: 0.3678 - val_accuracy: 0.8969\n",
            "Epoch 8/30\n",
            "263/263 [==============================] - 3s 11ms/step - loss: 0.3468 - accuracy: 0.8916 - val_loss: 0.3640 - val_accuracy: 0.8962\n",
            "Epoch 9/30\n",
            "263/263 [==============================] - 3s 11ms/step - loss: 0.3268 - accuracy: 0.8980 - val_loss: 0.3589 - val_accuracy: 0.9040\n",
            "Epoch 10/30\n",
            "263/263 [==============================] - 3s 10ms/step - loss: 0.3096 - accuracy: 0.9020 - val_loss: 0.3482 - val_accuracy: 0.9036\n",
            "Epoch 11/30\n",
            "263/263 [==============================] - 3s 10ms/step - loss: 0.2984 - accuracy: 0.9047 - val_loss: 0.3785 - val_accuracy: 0.8956\n",
            "Epoch 12/30\n",
            "263/263 [==============================] - 3s 10ms/step - loss: 0.2801 - accuracy: 0.9121 - val_loss: 0.3500 - val_accuracy: 0.9119\n",
            "Epoch 13/30\n",
            "263/263 [==============================] - 3s 12ms/step - loss: 0.2639 - accuracy: 0.9161 - val_loss: 0.3277 - val_accuracy: 0.9106\n",
            "Epoch 14/30\n",
            "263/263 [==============================] - 3s 10ms/step - loss: 0.2502 - accuracy: 0.9202 - val_loss: 0.3999 - val_accuracy: 0.8904\n",
            "Epoch 15/30\n",
            "263/263 [==============================] - 3s 10ms/step - loss: 0.2472 - accuracy: 0.9207 - val_loss: 0.4094 - val_accuracy: 0.8998\n",
            "Epoch 16/30\n",
            "263/263 [==============================] - 3s 10ms/step - loss: 0.2296 - accuracy: 0.9263 - val_loss: 0.3647 - val_accuracy: 0.9113\n",
            "Epoch 17/30\n",
            "263/263 [==============================] - 3s 10ms/step - loss: 0.2136 - accuracy: 0.9304 - val_loss: 0.3456 - val_accuracy: 0.9139\n",
            "Epoch 18/30\n",
            "263/263 [==============================] - 3s 11ms/step - loss: 0.2146 - accuracy: 0.9307 - val_loss: 0.3864 - val_accuracy: 0.9050\n",
            "Epoch 19/30\n",
            "263/263 [==============================] - 3s 11ms/step - loss: 0.2001 - accuracy: 0.9354 - val_loss: 0.3931 - val_accuracy: 0.9135\n",
            "Epoch 20/30\n",
            "263/263 [==============================] - 3s 10ms/step - loss: 0.1957 - accuracy: 0.9369 - val_loss: 0.4095 - val_accuracy: 0.9107\n",
            "Epoch 21/30\n",
            "263/263 [==============================] - 3s 10ms/step - loss: 0.1861 - accuracy: 0.9384 - val_loss: 0.3850 - val_accuracy: 0.9098\n",
            "Epoch 22/30\n",
            "263/263 [==============================] - 3s 10ms/step - loss: 0.1879 - accuracy: 0.9371 - val_loss: 0.5311 - val_accuracy: 0.8845\n",
            "Epoch 23/30\n",
            "263/263 [==============================] - 3s 11ms/step - loss: 0.1796 - accuracy: 0.9409 - val_loss: 0.4430 - val_accuracy: 0.9119\n",
            "Epoch 24/30\n",
            "263/263 [==============================] - 3s 11ms/step - loss: 0.1767 - accuracy: 0.9425 - val_loss: 0.3970 - val_accuracy: 0.9133\n",
            "Epoch 25/30\n",
            "263/263 [==============================] - 3s 10ms/step - loss: 0.1669 - accuracy: 0.9435 - val_loss: 0.4573 - val_accuracy: 0.9120\n",
            "Epoch 26/30\n",
            "263/263 [==============================] - 3s 10ms/step - loss: 0.1685 - accuracy: 0.9451 - val_loss: 0.4539 - val_accuracy: 0.9125\n",
            "Epoch 27/30\n",
            "263/263 [==============================] - 3s 10ms/step - loss: 0.1657 - accuracy: 0.9449 - val_loss: 0.4717 - val_accuracy: 0.9106\n",
            "Epoch 28/30\n",
            "263/263 [==============================] - 3s 11ms/step - loss: 0.1508 - accuracy: 0.9497 - val_loss: 0.4626 - val_accuracy: 0.9151\n",
            "Epoch 29/30\n",
            "263/263 [==============================] - 3s 11ms/step - loss: 0.1508 - accuracy: 0.9499 - val_loss: 0.4161 - val_accuracy: 0.9080\n",
            "Epoch 30/30\n",
            "263/263 [==============================] - 3s 10ms/step - loss: 0.1467 - accuracy: 0.9502 - val_loss: 0.4509 - val_accuracy: 0.9162\n"
          ]
        }
      ],
      "source": [
        "# Fit the model on the train data with epochs = 30. \n",
        "history_cnn_model_2 = cnn_model_2.fit(X_train, y_train, validation_split = 0.2, batch_size = 128, verbose = 1, epochs = 30)"
      ]
    },
    {
      "cell_type": "markdown",
      "metadata": {
        "id": "6UjEIbPM0XIX"
      },
      "source": [
        "#### **Validation and training accuracies plots**"
      ]
    },
    {
      "cell_type": "code",
      "execution_count": 24,
      "metadata": {
        "colab": {
          "base_uri": "https://localhost:8080/",
          "height": 497
        },
        "id": "6hdVTpT_lMPn",
        "outputId": "aaabb828-49fb-4791-94a4-f20b0bc081f0"
      },
      "outputs": [
        {
          "output_type": "display_data",
          "data": {
            "text/plain": [
              "<Figure size 576x576 with 1 Axes>"
            ],
            "image/png": "[encoded data removed]"
          },
          "metadata": {
            "needs_background": "light"
          }
        }
      ],
      "source": [
        "# Plotting the accuracies\n",
        "accuracyplot(history_cnn_model_2, 30)"
      ]
    },
    {
      "cell_type": "markdown",
      "metadata": {
        "id": "YuhohclvlUqU"
      },
      "source": [
        "**Observations:\n",
        "The model has generalized well with a contstant increase in accuracy and decrease in loss on both the training and testing data. At the end of 30 epochs the accuracies on the training and testing data are 94.85% and 91.15%. While there is a slight difference, the validation accuracy has improved significantly from the previous model and the overfitting issues seem to have been resolved in this model. \n"
      ]
    },
    {
      "cell_type": "markdown",
      "metadata": {
        "id": "JMxifb2_f8r-"
      },
      "source": [
        "#### **Predictions on the test data** "
      ]
    },
    {
      "cell_type": "code",
      "execution_count": 25,
      "metadata": {
        "colab": {
          "base_uri": "https://localhost:8080/"
        },
        "id": "8s7fv_Y4lXv1",
        "outputId": "0974c267-d1a0-46cf-ee63-077d6bc13908"
      },
      "outputs": [
        {
          "output_type": "stream",
          "name": "stdout",
          "text": [
            "563/563 [==============================] - 1s 2ms/step\n"
          ]
        }
      ],
      "source": [
        "# Make prediction on the test data using cnn_model_2 \n",
        "test_pred = cnn_model_2.predict(X_test)"
      ]
    },
    {
      "cell_type": "markdown",
      "metadata": {
        "id": "jvYGo0TlfkYI"
      },
      "source": [
        "#### **Performance Metrics**\n",
        "Generated a classification report and plotted the heatmap using confusion matrix"
      ]
    },
    {
      "cell_type": "code",
      "execution_count": 26,
      "metadata": {
        "colab": {
          "base_uri": "https://localhost:8080/",
          "height": 655
        },
        "id": "N5EtJPvMfJwx",
        "outputId": "7a352c8c-45b4-4272-f4bf-e183f2d2ed43"
      },
      "outputs": [
        {
          "output_type": "stream",
          "name": "stdout",
          "text": [
            "[1 7 2 ... 7 9 2] [1 7 2 ... 7 3 2]\n",
            "              precision    recall  f1-score   support\n",
            "\n",
            "           0       0.92      0.95      0.93      1814\n",
            "           1       0.91      0.92      0.91      1828\n",
            "           2       0.93      0.93      0.93      1803\n",
            "           3       0.89      0.91      0.90      1719\n",
            "           4       0.94      0.93      0.93      1812\n",
            "           5       0.91      0.92      0.91      1768\n",
            "           6       0.91      0.90      0.90      1832\n",
            "           7       0.93      0.95      0.94      1808\n",
            "           8       0.94      0.87      0.90      1812\n",
            "           9       0.91      0.91      0.91      1804\n",
            "\n",
            "    accuracy                           0.92     18000\n",
            "   macro avg       0.92      0.92      0.92     18000\n",
            "weighted avg       0.92      0.92      0.92     18000\n",
            "\n"
          ]
        },
        {
          "output_type": "display_data",
          "data": {
            "text/plain": [
              "<Figure size 576x360 with 2 Axes>"
            ],
            "image/png": "[encoded data removed]"
          },
          "metadata": {
            "needs_background": "light"
          }
        }
      ],
      "source": [
        "# Printing the classification report and plot the heatmap using confusion matrix\n",
        "print_metrics(y_test, test_pred)"
      ]
    },
    {
      "cell_type": "markdown",
      "metadata": {
        "id": "ge6yN0e8lg6E"
      },
      "source": [
        "**Final Observations:\n",
        "\n",
        "The second CNN model performed well with an accuracy of 91% which is a significant improvement from the ANN model. The misclassifications between some digit combinations like 5 and 3, 4 ansd 1 etc from the ANN model seemed to have reduced significantly. While there are several misclassifications even in this model (5 and 3 still have 55 misclassifications and there is still some confusion between 6 and 8), overall all the digits have an F1 score higher than 0.9. Since the accuracies on the training and testing data are close and over 90% we can consider to the model to be generalized and can expect it to perform well on unseen data. We can try hyperparameter tuning for some of the hyperparameters like the number of convolutional blocks, the number of filters in each Conv2D layer, filter size, activation function, adding/removing dropout layers, etc. Data Augmentation might help to make the model more robust and invariant toward different orientations."
      ]
    }
  ],
  "metadata": {
    "accelerator": "GPU",
    "colab": {
      "provenance": [],
      "toc_visible": true,
      "include_colab_link": true
    },
    "gpuClass": "standard",
    "kernelspec": {
      "display_name": "Python 3 (ipykernel)",
      "language": "python",
      "name": "python3"
    },
    "language_info": {
      "codemirror_mode": {
        "name": "ipython",
        "version": 3
      },
      "file_extension": ".py",
      "mimetype": "text/x-python",
      "name": "python",
      "nbconvert_exporter": "python",
      "pygments_lexer": "ipython3",
      "version": "3.9.7"
    }
  },
  "nbformat": 4,
  "nbformat_minor": 0
}